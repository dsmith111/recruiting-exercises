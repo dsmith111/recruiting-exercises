{
 "cells": [
  {
   "cell_type": "code",
   "execution_count": 2,
   "metadata": {},
   "outputs": [
    {
     "name": "stderr",
     "output_type": "stream",
     "text": [
      ".\n",
      "----------------------------------------------------------------------\n",
      "Ran 1 test in 0.002s\n",
      "\n",
      "OK\n"
     ]
    },
    {
     "name": "stdin",
     "output_type": "stream",
     "text": [
      " \n"
     ]
    },
    {
     "data": {
      "text/plain": [
       "''"
      ]
     },
     "execution_count": 2,
     "metadata": {},
     "output_type": "execute_result"
    }
   ],
   "source": [
    "import unittest\n",
    "from continental_divide_finder import Continental_Divide\n",
    "\n",
    "class cdTest(unittest.TestCase):\n",
    "    \n",
    "    def test_interview_map(self):\n",
    "        \n",
    "        continent = [[1, 2, 1],\n",
    "                     [1, 2, 1],\n",
    "                     [1, 2, 1]]\n",
    "\n",
    "        cd = Continental_Divide(continent).crawl()\n",
    "        self.assertEqual(cd, [[0, 1], [1, 1], [2, 1]])\n",
    "        \n",
    "    def test_interview_map(self):\n",
    "        \n",
    "        continent = [[1, 2, 1, 1],\n",
    "                     [3, 1, 1, 2],\n",
    "                     [1, 1, 3, 2]]\n",
    "\n",
    "        cd = Continental_Divide(continent).crawl()\n",
    "        self.assertEqual(cd, [[0, 1], [2, 2]])\n",
    "        \n",
    "\n",
    "if __name__ == '__main__':\n",
    "    unittest.main(argv=['first-arg-is-ignored'], exit=False)\n",
    "\n",
    "input()\n",
    "\n"
   ]
  }
 ],
 "metadata": {
  "kernelspec": {
   "display_name": "Python 3",
   "language": "python",
   "name": "python3"
  },
  "language_info": {
   "codemirror_mode": {
    "name": "ipython",
    "version": 3
   },
   "file_extension": ".py",
   "mimetype": "text/x-python",
   "name": "python",
   "nbconvert_exporter": "python",
   "pygments_lexer": "ipython3",
   "version": "3.8.3"
  }
 },
 "nbformat": 4,
 "nbformat_minor": 4
}
